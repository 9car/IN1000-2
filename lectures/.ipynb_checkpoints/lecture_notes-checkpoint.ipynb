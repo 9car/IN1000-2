{
 "cells": [
  {
   "cell_type": "markdown",
   "id": "fcc4635a-3df5-4227-9296-1488a5263e2e",
   "metadata": {},
   "source": [
    "### Week 3:\n",
    "In this week a short object services, list, sets, dictionarys and nested list were introduced"
   ]
  },
  {
   "cell_type": "code",
   "execution_count": null,
   "id": "7636ef9c-cc20-4adc-bcd8-446e233e9b4f",
   "metadata": {},
   "outputs": [],
   "source": []
  }
 ],
 "metadata": {
  "kernelspec": {
   "display_name": "Python 3 (ipykernel)",
   "language": "python",
   "name": "python3"
  },
  "language_info": {
   "codemirror_mode": {
    "name": "ipython",
    "version": 3
   },
   "file_extension": ".py",
   "mimetype": "text/x-python",
   "name": "python",
   "nbconvert_exporter": "python",
   "pygments_lexer": "ipython3",
   "version": "3.8.10"
  }
 },
 "nbformat": 4,
 "nbformat_minor": 5
}
