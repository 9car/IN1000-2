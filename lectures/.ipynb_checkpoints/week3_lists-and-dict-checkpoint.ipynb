{
 "cells": [
  {
   "cell_type": "markdown",
   "source": [
    "# Week 3:\n",
    "In this week a short object services, list, sets, dictionarys and nested list were introduced"
   ],
   "metadata": {}
  },
  {
   "cell_type": "code",
   "execution_count": 3,
   "source": [
    "#Object services used in lecture\n",
    "\n",
    "setning = \"hallo\"\n",
    "\n",
    "print(setning.upper())\n",
    "\n",
    "print(setning.count(\"l\"))\n",
    "\n",
    "#Used ezgraphics, but this was not part of the curriculum\n"
   ],
   "outputs": [
    {
     "output_type": "stream",
     "name": "stdout",
     "text": [
      "HALLO\n",
      "2\n"
     ]
    }
   ],
   "metadata": {}
  },
  {
   "cell_type": "markdown",
   "source": [
    "## Lists"
   ],
   "metadata": {}
  },
  {
   "cell_type": "code",
   "execution_count": 23,
   "source": [
    "#Define lists\n",
    "empty_list = []\n",
    "my_list = [0] * 4 #zeros_list = [0,0,0,0]\n",
    "print(my_list)\n",
    "\n",
    "#Edit lists\n",
    "my_list[0] = 5 #Change element based on index\n",
    "print(my_list)\n",
    "my_list.append(1) #Add a new element at the end of the list, will not work for string. (immutable)\n",
    "print(my_list)\n",
    "\n",
    "#Concatenate lists\n",
    "my_list2 = [2] * 5\n",
    "con_list = my_list + my_list2\n",
    "print(con_list)\n",
    "print([50,76]+[87,96])\n",
    "\n",
    "#Allows for different datatypes\n",
    "str_list = [\"Oslo\", \"Bergen\"]\n",
    "float_list = [1.2,2.9,1.0]\n",
    "int_list = [2,3,4]\n",
    "\n",
    "#Allows for different datatypes in same list, not recommended.\n",
    "combined_list = str_list + float_list + int_list\n",
    "print(combined_list)\n",
    "\n",
    "#Number of elements in list, i.e length of the list\n",
    "list_len = len(my_list)\n",
    "print(list_len)\n",
    "\n",
    "#Find a spesific value is in the list\n",
    "print(\"Bergen\" in combined_list)\n",
    "print(\"Stavanger\" in combined_list)\n",
    "\n",
    "#Find number of occurences of value in list\n",
    "n = con_list.count(2)\n",
    "print(f\"2 appears {n} times in con_list\")\n",
    "\n",
    "#Sort values in list\n",
    "print(f\"Unsorted={con_list}\")\n",
    "sort_list = sorted(con_list) #This also works for chars. Reason we dont mix datatypes\n",
    "print(f\"Sorted={sort_list}\")\n",
    "\n",
    "#Create list from a string\n",
    "my_string = \"hei\"\n",
    "print(list(my_string))\n"
   ],
   "outputs": [
    {
     "output_type": "stream",
     "name": "stdout",
     "text": [
      "[0, 0, 0, 0]\n",
      "[5, 0, 0, 0]\n",
      "[5, 0, 0, 0, 1]\n",
      "[5, 0, 0, 0, 1, 2, 2, 2, 2, 2]\n",
      "[50, 76, 87, 96]\n",
      "['Oslo', 'Bergen', 1.2, 2.9, 1.0, 2, 3, 4]\n",
      "5\n",
      "True\n",
      "False\n",
      "2 appears 5 times in con_list\n",
      "Unsorted=[5, 0, 0, 0, 1, 2, 2, 2, 2, 2]\n",
      "Sorted=[0, 0, 0, 1, 2, 2, 2, 2, 2, 5]\n",
      "['h', 'e', 'i']\n"
     ]
    }
   ],
   "metadata": {}
  },
  {
   "cell_type": "markdown",
   "source": [
    "## Sets\n",
    "A collection of values.\\\n",
    "    - No order, i.e indexing will not work (my_set[0] is invalid)\\\n",
    "    - Only unique values"
   ],
   "metadata": {
    "tags": []
   }
  },
  {
   "cell_type": "code",
   "execution_count": 31,
   "source": [
    "#Defining sets\n",
    "my_set = {1,5,1,1}\n",
    "print(my_set) # {1, 5} since a set is only unique values\n",
    "\n",
    "#Length of set\n",
    "print(len(my_set)) # = 2, because there are only 2 unique values\n",
    "\n",
    "#Find values in set\n",
    "print(5 in my_set)\n",
    "\n",
    "#Creating sets from lists\n",
    "my_list = [1,5,1,1]\n",
    "print(my_list)\n",
    "my_set2 = set(my_list)\n",
    "print(my_set2)"
   ],
   "outputs": [
    {
     "output_type": "stream",
     "name": "stdout",
     "text": [
      "{1, 5}\n",
      "2\n",
      "True\n",
      "[1, 5, 1, 1]\n",
      "{1, 5}\n"
     ]
    }
   ],
   "metadata": {}
  },
  {
   "cell_type": "markdown",
   "source": [
    "## Dictionary\n",
    "\n",
    "Maps a value based on a key"
   ],
   "metadata": {}
  },
  {
   "cell_type": "code",
   "execution_count": 46,
   "source": [
    "#Defining dictionaries\n",
    "empty_dict = {}\n",
    "capitals = {\"Norway\":\"Oslo\", \"Germany\":\"Berlin\"}\n",
    "phone = {\"Norway\":47, \"Germany\":49}\n",
    "\n",
    "#Indexing dictionaires by using keys\n",
    "print(capitals[\"Norway\"])\n",
    "print(phone[\"Germany\"])\n",
    "\n",
    "#Add elements to a dictionary\n",
    "empty_dict[\"Italia\"] = 39\n",
    "print(empty_dict[\"Italia\"])\n",
    "\n",
    "empty_dict.update({\"Spain\":\"Madrid\"})\n",
    "print(empty_dict[\"Spain\"])\n",
    "\n",
    "#Using key and value in dictonary\n",
    "for key, value in empty_dict.items():\n",
    "    print(f\"key = {key} and value = {value}\")\n",
    "    \n",
    "#Arithmetic with dictionaries\n",
    "print(phone[\"Germany\"]-phone[\"Norway\"])\n",
    "\n",
    "#Search for key values in dictionary\n",
    "print(\"Norway\" in capitals)"
   ],
   "outputs": [
    {
     "output_type": "stream",
     "name": "stdout",
     "text": [
      "Oslo\n",
      "49\n",
      "39\n",
      "Madrid\n",
      "key = Italia and value = 39\n",
      "key = Spain and value = Madrid\n",
      "2\n",
      "True\n"
     ]
    }
   ],
   "metadata": {}
  },
  {
   "cell_type": "markdown",
   "source": [
    "## Nested lists"
   ],
   "metadata": {}
  },
  {
   "cell_type": "code",
   "execution_count": 57,
   "source": [
    "#Define 2D nested lists\n",
    "nest_list = [[\"egg\", \"bacon\"],[\"ost\",\"agurk\",\"tomat\"]]\n",
    "\n",
    "#First row, both colums\n",
    "print(nest_list[0])\n",
    "print(nest_list[0][0])\n",
    "print(nest_list[0][1])\n",
    "\n",
    "#Second row, all colums\n",
    "print(nest_list[1])\n",
    "print(nest_list[1][0])\n",
    "print(nest_list[1][1])\n",
    "print(nest_list[1][2])\n",
    "\n",
    "#Define 3D nested lists\n",
    "\n",
    "nest_list2 = [\n",
    "    [#First 2D list\n",
    "        [1,2],#Row 0\n",
    "        [3,4,5]#Row 1 \n",
    "    ], \n",
    "    [#Second 2D list\n",
    "        [11,12],#Row 0\n",
    "        [13,14,15]#Row 1\n",
    "    ]\n",
    "]\n",
    "\n",
    "print(nest_list2[1][0][0])\n",
    "\n",
    "\n",
    "landinfo = {\"byer\":{\"Norge\":\"Oslo\",\"Tyskland\":\"Berlin\"}, \"tlf\":{\"Norge\":47,\"Tyskland\":49}}\n",
    "\n",
    "print(landinfo[\"byer\"][\"Norge\"])"
   ],
   "outputs": [
    {
     "output_type": "stream",
     "name": "stdout",
     "text": [
      "['egg', 'bacon']\n",
      "egg\n",
      "bacon\n",
      "['ost', 'agurk', 'tomat']\n",
      "ost\n",
      "agurk\n",
      "tomat\n",
      "11\n",
      "Oslo\n"
     ]
    }
   ],
   "metadata": {}
  },
  {
   "cell_type": "code",
   "execution_count": 12,
   "source": [],
   "outputs": [
    {
     "output_type": "stream",
     "name": "stdout",
     "text": [
      "1\n",
      "2\n",
      "3\n",
      "4\n",
      "5\n"
     ]
    }
   ],
   "metadata": {}
  }
 ],
 "metadata": {
  "kernelspec": {
   "name": "python3",
   "display_name": "Python 3.8.10 64-bit"
  },
  "language_info": {
   "codemirror_mode": {
    "name": "ipython",
    "version": 3
   },
   "file_extension": ".py",
   "mimetype": "text/x-python",
   "name": "python",
   "nbconvert_exporter": "python",
   "pygments_lexer": "ipython3",
   "version": "3.8.10"
  },
  "interpreter": {
   "hash": "916dbcbb3f70747c44a77c7bcd40155683ae19c65e1c03b4aa3499c5328201f1"
  }
 },
 "nbformat": 4,
 "nbformat_minor": 5
}