{
 "cells": [
  {
   "cell_type": "markdown",
   "metadata": {},
   "source": [
    "## Week 5\n",
    "- Reading information from file"
   ]
  },
  {
   "cell_type": "code",
   "execution_count": 2,
   "metadata": {},
   "outputs": [
    {
     "name": "stdout",
     "output_type": "stream",
     "text": [
      "my_text contains: line1\n",
      "\n",
      "my_text contains: line2\n",
      "\n",
      "my_text contains: line3\n"
     ]
    }
   ],
   "source": [
    "#Read file, delimitor \\n\n",
    "my_file = open(\"inout/my_text.txt\") #Opens file\n",
    "\n",
    "for line in my_file: #Reads each line in file\n",
    "    print(f\"my_text contains: {line}\")"
   ]
  },
  {
   "cell_type": "code",
   "execution_count": 3,
   "metadata": {},
   "outputs": [
    {
     "name": "stdin",
     "output_type": "stream",
     "text": [
      "Write a country:  Norway\n"
     ]
    },
    {
     "name": "stdout",
     "output_type": "stream",
     "text": [
      "The capital of Norway is Harare\n"
     ]
    }
   ],
   "source": [
    "#Fill dictionary from file\n",
    "\n",
    "my_data = open(\"inout/hovedsteder.csv\")\n",
    "\n",
    "capitals = {}\n",
    "\n",
    "for line in my_data:\n",
    "    country, capital = line.split()\n",
    "    capitals[country] = capital\n",
    "\n",
    "select_country = input(\"Write a country: \")\n",
    "print(f\"The capital of {select_country} is {capitals[country]}\")\n",
    "    "
   ]
  }
 ],
 "metadata": {
  "kernelspec": {
   "display_name": "Python 3 (ipykernel)",
   "language": "python",
   "name": "python3"
  },
  "language_info": {
   "codemirror_mode": {
    "name": "ipython",
    "version": 3
   },
   "file_extension": ".py",
   "mimetype": "text/x-python",
   "name": "python",
   "nbconvert_exporter": "python",
   "pygments_lexer": "ipython3",
   "version": "3.8.10"
  }
 },
 "nbformat": 4,
 "nbformat_minor": 4
}
