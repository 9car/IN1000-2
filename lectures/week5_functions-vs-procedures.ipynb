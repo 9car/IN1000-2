{
 "cells": [
  {
   "cell_type": "markdown",
   "source": [
    "### Uke 5: Prosedyrer vs Funksjoner \n",
    "NB: Prosedyrer og funksjoner deklareres likt i python. dvs \"def myfunc/myproc(*arg):\"\n",
    "\n",
    "Prosedyrer\n",
    "- Har ingen returverdi\n",
    "- Dersom den ikke har argumenter handler det om å skape \"kontrollflyt\" i programmet (lite brukt)\n",
    "- Dersom den har argumenter handler det om tilpasset gjenbruk av kode (mer brukt), printing o.l.\n",
    "\n",
    "\n",
    "Funksjoner\n",
    "- Har en returverdi\n",
    "- Outsourcer en overordnet beregning (transformerer inn til ut)\n",
    "- Inneholder vanligvis ikke input og print, men har heller argumenter og returverdier\n",
    "- Variabler i en funksjon er lokale. Dette kalles skopet til variablen.\n",
    "    - Funksjoner kan lese globale variabler, men det er ikke anbefalt. \n",
    "    - Variabler som skal være \"globale\" bør sendes inn som argumenter og returneres fra funksjon\n",
    "        - Dette fordi funksjoner skal være generelle\n",
    "    - Et godt verktøy for å forhindre dette er å skrive et \"def hovedprogram()\" og kjøre det som et kall i main\n",
    "    - Dersom du bruker en variablel i funksjonen som ikke er definert lokalt i funksjonen, så vil python lete globalt.\n",
    "        - Dette er ikke å anbefale\n",
    "\n",
    "Tre kilder til funksjoner:\n",
    "- Innebygde funksjoner \n",
    "    - print, int, input, .. \n",
    "    - Disse følger med python og er alltid tilgjenglig\n",
    "- Funksjoner i standard biblioteker\n",
    "    - Ikke innebydt i python\n",
    "    - sqrt, ctime <- En del av en modul: math, time, ...\n",
    "    - må importeres: \"from random import randint\"\n",
    "- Egendefinerte funksjoner\n",
    "\n",
    "\n"
   ],
   "metadata": {}
  },
  {
   "cell_type": "code",
   "execution_count": 8,
   "source": [
    "#Funksjon\n",
    "def les_fil_bok(filnavn):    \n",
    "    ordbok = {}\n",
    "\n",
    "    for linje in open(filnavn):\n",
    "        nokkel, verdi = linje.split()\n",
    "        ordbok[nokkel] = float(verdi)\n",
    "    return ordbok    \n",
    "\n",
    "#Prosedyre\n",
    "def analyser(dagsregn, dagssok):\n",
    "    sum_dorlig_ver = 0\n",
    "    antall_dager_dorlig = 0\n",
    "    sum_bra_ver = 0\n",
    "    antall_dager_bra = 0\n",
    "\n",
    "    assert set(dagsregn.keys()) == set(dagssok.keys())\n",
    "    datoer = dagsregn.keys()\n",
    "\n",
    "    #Variabel deklarasjon\n",
    "\n",
    "    for dato in datoer:\n",
    "        if dagsregn[dato] > 2:\n",
    "            sum_dorlig_ver += dagssok[dato]\n",
    "            antall_dager_dorlig +=1\n",
    "        else:\n",
    "            sum_bra_ver += dagssok[dato]\n",
    "            antall_dager_bra += 1\n",
    "\n",
    "    print(f\"Gjennomsnitt søk regntunge dager:{sum_dorlig_ver/antall_dager_dorlig} \")        \n",
    "    print(f\"Gjennomsnitt søk pene dager:{sum_bra_ver/antall_dager_bra} \")      \n",
    "\n",
    "def hovedprogram():\n",
    "    dagsregn = les_fil_bok(\"inout/regn.csv\")\n",
    "    dagssok = les_fil_bok(\"inout/trends.csv\")\n",
    "\n",
    "    analyser(dagsregn, dagssok)\n",
    "\n",
    "hovedprogram()"
   ],
   "outputs": [
    {
     "output_type": "stream",
     "name": "stdout",
     "text": [
      "Gjennomsnitt søk regntunge dager:52.583333333333336 \n",
      "Gjennomsnitt søk pene dager:50.1578947368421 \n"
     ]
    }
   ],
   "metadata": {}
  }
 ],
 "metadata": {
  "orig_nbformat": 4,
  "language_info": {
   "name": "python",
   "version": "3.8.10",
   "mimetype": "text/x-python",
   "codemirror_mode": {
    "name": "ipython",
    "version": 3
   },
   "pygments_lexer": "ipython3",
   "nbconvert_exporter": "python",
   "file_extension": ".py"
  },
  "kernelspec": {
   "name": "python3",
   "display_name": "Python 3.8.10 64-bit"
  },
  "interpreter": {
   "hash": "916dbcbb3f70747c44a77c7bcd40155683ae19c65e1c03b4aa3499c5328201f1"
  }
 },
 "nbformat": 4,
 "nbformat_minor": 2
}