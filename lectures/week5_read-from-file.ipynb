{
 "cells": [
  {
   "cell_type": "markdown",
   "source": [
    "## Week 5\n",
    "- Read/write information from/to file\n"
   ],
   "metadata": {}
  },
  {
   "cell_type": "markdown",
   "source": [
    "### Read from file"
   ],
   "metadata": {}
  },
  {
   "cell_type": "code",
   "execution_count": 2,
   "source": [
    "#Read file, delimitor \\n\n",
    "my_file = open(\"inout/my_text.txt\") #Opens file\n",
    "\n",
    "for line in my_file: #Reads each line in file\n",
    "    print(f\"my_text contains: {line}\")"
   ],
   "outputs": [
    {
     "output_type": "stream",
     "name": "stdout",
     "text": [
      "my_text contains: line1\n",
      "\n",
      "my_text contains: line2\n",
      "\n",
      "my_text contains: line3\n"
     ]
    }
   ],
   "metadata": {}
  },
  {
   "cell_type": "code",
   "execution_count": 7,
   "source": [
    "#Fill dictionary from file, with \\n as delimitor\n",
    "\n",
    "my_data = open(\"inout/hovedsteder.csv\") \n",
    "\n",
    "capitals = {}\n",
    "\n",
    "for line in my_data:\n",
    "    country, capital = line.split()\n",
    "    capitals[country] = capital\n",
    "\n",
    "select_country = input(\"Country: \")\n",
    "print(f\"The capital of {select_country} is {capitals[select_country]}\")\n",
    "    "
   ],
   "outputs": [
    {
     "output_type": "stream",
     "name": "stdout",
     "text": [
      "The capital of Norway is Oslo\n"
     ]
    }
   ],
   "metadata": {}
  },
  {
   "cell_type": "code",
   "execution_count": 8,
   "source": [
    "\n",
    "rain_data = open(\"inout/aarsnedbor.csv\", \"r\")\n",
    "\n",
    "for line in rain_data:\n",
    "    days = line.split()\n",
    "    max_rain = 0\n",
    "\n",
    "    for amount_rain in days:\n",
    "        rain = float(amount_rain)\n",
    "        if rain > max_rain:\n",
    "            max_rain = rain \n",
    "\n",
    "    print(max_rain)"
   ],
   "outputs": [
    {
     "output_type": "stream",
     "name": "stdout",
     "text": [
      "8.6\n",
      "14.4\n",
      "9.9\n",
      "17.9\n",
      "22.0\n",
      "29.6\n",
      "19.7\n",
      "42.2\n"
     ]
    }
   ],
   "metadata": {}
  },
  {
   "cell_type": "code",
   "execution_count": 12,
   "source": [
    "persons = open(\"inout/alder.csv\", \"r\")\n",
    "max_age = 0\n",
    "\n",
    "for line in persons:\n",
    "    name, age = line.split(\":\")\n",
    "    age = int(age)\n",
    "    if age > max_age:\n",
    "        max_age = age\n",
    "        max_name = name\n",
    "\n",
    "print(f\"{max_name} is the oldest at {max_age} years old\")        "
   ],
   "outputs": [
    {
     "output_type": "stream",
     "name": "stdout",
     "text": [
      "malfrid is the oldest at 80 years old\n"
     ]
    }
   ],
   "metadata": {}
  },
  {
   "cell_type": "markdown",
   "source": [
    "### Write to file"
   ],
   "metadata": {}
  },
  {
   "cell_type": "code",
   "execution_count": 13,
   "source": [
    "#Here we add \\n as delimitor\n",
    "my_poem  = open(\"inout/poem.txt\", \"w\")\n",
    "\n",
    "my_poem.write(\"1 elefant kom marsjerende!\\n\")\n",
    "\n",
    "for i in range(2,1000):\n",
    "    my_poem.write(str(i) + \" elefant kom marsjerende!\\n\")\n",
    "\n",
    "my_poem.close()"
   ],
   "outputs": [],
   "metadata": {}
  },
  {
   "cell_type": "markdown",
   "source": [
    "### Read from two seperate files"
   ],
   "metadata": {}
  },
  {
   "cell_type": "code",
   "execution_count": 4,
   "source": [
    "min_fil = open(\"inout/regn.csv\")\n",
    "regnbok = {}\n",
    "\n",
    "for linje in min_fil:\n",
    "    dato, verdi = linje.split()\n",
    "    regnbok[dato] = float(verdi)\n",
    "\n",
    "min_sokefil = open(\"inout/trends.csv\")\n",
    "sokebok = {}\n",
    "\n",
    "for linje in min_sokefil:\n",
    "    dato, verdi = linje.split()\n",
    "    sokebok[dato] = float(verdi)\n",
    "\n",
    "assert set(sokebok.keys()) == set(regnbok.keys())\n",
    "\n",
    "mine_datoer = sokebok.keys()\n",
    "\n",
    "#Variabel deklarasjon\n",
    "sum_sok_regntung = 0\n",
    "antall_regntung = 0\n",
    "sum_sok_pent = 0\n",
    "antall_pen = 0\n",
    "\n",
    "for dato in mine_datoer:\n",
    "    regn = regnbok[dato]\n",
    "    sok = sokebok[dato]\n",
    "    if regn < 2.0:\n",
    "        sum_sok_regntung += sok\n",
    "        antall_regntung += 1\n",
    "    else:\n",
    "        sum_sok_pent += sok\n",
    "        antall_pen += 1\n",
    "\n",
    "print(f\"Gjennomsnitt søk regntunge dager:{sum_sok_regntung/antall_regntung} \")        \n",
    "print(f\"Gjennomsnitt søk pene dager:{sum_sok_pent/antall_pen} \")        "
   ],
   "outputs": [
    {
     "output_type": "stream",
     "name": "stdout",
     "text": [
      "Gjennomsnitt søk regntunge dager:50.1578947368421 \n",
      "Gjennomsnitt søk pene dager:52.583333333333336 \n"
     ]
    }
   ],
   "metadata": {}
  }
 ],
 "metadata": {
  "kernelspec": {
   "name": "python3",
   "display_name": "Python 3.8.10 64-bit"
  },
  "language_info": {
   "codemirror_mode": {
    "name": "ipython",
    "version": 3
   },
   "file_extension": ".py",
   "mimetype": "text/x-python",
   "name": "python",
   "nbconvert_exporter": "python",
   "pygments_lexer": "ipython3",
   "version": "3.8.10"
  },
  "interpreter": {
   "hash": "916dbcbb3f70747c44a77c7bcd40155683ae19c65e1c03b4aa3499c5328201f1"
  }
 },
 "nbformat": 4,
 "nbformat_minor": 4
}