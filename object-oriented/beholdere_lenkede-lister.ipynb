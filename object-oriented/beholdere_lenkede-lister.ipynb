{
 "cells": [
  {
   "cell_type": "markdown",
   "source": [
    "### Å lage egne beholdere (containers)\n",
    "- Trenger en datastruktur for å lagre ukjent antall (like) objekter. I python har vi lister, ordbøker og mengder\n",
    "  - Hva om disse ikke fantes?\n",
    "- Hvordan opprette en ny variabel hver gang vi trenger den, og få tak i den senere?\n",
    "- Vi kan gå i løkke og opprette objekter etter behov - og vi har sett at et objekt deretter kan brukes fra ulike steder i programmet vårt, bare vi har en variabel med en referanse til objektet\n",
    "- Men hvordan sørge for nok referansevariable til et ukjent antall objekter, slik vi kan finne dem igjen og bruke dem senere\n",
    "\n",
    "En klassisk datastruktur for et ukjent antall elementer er en LENKET LISTE"
   ],
   "metadata": {}
  },
  {
   "cell_type": "markdown",
   "source": [
    "## Lenkede lister\n",
    "- Poenget med denne strukturen er at for hvert nye objekt vi lager, så lager vi samtidig en referanse variabel som kan referere til et nytt objekt\n",
    "- Dvs hvert objekt må kunne referere til et annet objekt\n",
    "- Dermed får vi en lenket liste av objekter, og trenger bare ha en referanse til det første objektet fra der vi skal bruke listen\n",
    "- Får en stuktur av noder, hvor hver node peker på neste node. Siste node kan indikeres når den peker på None\n",
    "\n",
    "Lager en generell klasse for objektene i lenkelisten\n",
    "- Klasse Node\n",
    "\n",
    "Grensesnittet for klassen Node:\n",
    "- Lese, endre, skrive ut, ... innhold\n",
    "- legg til ny etterfølger\n",
    "- hent etterfølger\n",
    "- fjern etterfølger\n",
    "\n",
    "Datastruktur i Node-klassen\n",
    "- en referansevariabel så vi får tak i neste objekt\n",
    "- innholdet objektene skal representere"
   ],
   "metadata": {}
  },
  {
   "cell_type": "code",
   "execution_count": 1,
   "source": [
    "class Node:\n",
    "    def __init__(self, nytt):\n",
    "        self._innhold = nytt\n",
    "        self._neste = None\n",
    "\n",
    "    def ny_neste(self,ny):\n",
    "        self._neste = ny\n",
    "\n",
    "    def hent_neste(self):\n",
    "        return self._neste\n",
    "\n",
    "    #+ metoder for manipulering av selve innholdet        "
   ],
   "outputs": [],
   "metadata": {}
  },
  {
   "cell_type": "markdown",
   "source": [
    "### Innkapsling og generalisering\n",
    "- Vi kan organisere et \"uendelig\" antall noder (f.eks. togstasjoner) ved å opprette og lenke inn nye objekter av klassene Node (eller Stasjon) ved behov\n",
    "\n",
    "\n",
    "Designmessige ulemper:\n",
    "- Den som skal bruke klassen MÅ kjenne til sammenlenkingen av objektene\n",
    "- For hver klasse vi ønsker å lage lister av, må vi skrive all koden som har med liste-håndtering å gjøre.\n",
    "  - den ligger jo innbakt i klassen sammen med informasjon om innholdet\n",
    "\n",
    "Tiltak:\n",
    "- Skjule klassen Node (stasjon) inne i en klasse Lenkeliste (LagRute) som håndterer (og skjuler) alle lenge-operasjoner, og kun tilbyr brykervennelige tjenester for å opprette og administere noder (Stasjoner) i sitt grensesnitt"
   ],
   "metadata": {}
  },
  {
   "cell_type": "markdown",
   "source": [
    "### Andre sentrale datastrukturer\n",
    "Lenkede lister har flere ulemper\n",
    "  1. Hvis man har mange noder, blir veien gjennom strukturen veldig lang, spesielt til siste node\n",
    "  2. Hvis man skal representere noder med flere enn en relasjon til andre noder, holder det ikke med én neste-referanse\n",
    "\n",
    "Punkt kan avhjelpes noe vha endringer i implementasjonen av listene (doubly)\n",
    "\n",
    "Kan være mer nyttig med andre strukturer, som f.eks. trær.\n",
    "\n",
    "### Trær\n",
    "\n",
    "- har en rot node\n",
    "- Hver node kan ha flere barn\n",
    "- Trær har ikke sykler, kan aldri komme tilbake til en du har vært tidligere\n",
    "- Binære tall (maks to barn) brukes ofte til å representer data for oppslag, sortering og traversing\n",
    "- Antall barn kan ellers avhenge av hva datastrukturen skal representere\n",
    "  - Kan modellere organisasjonskart, slektstre osv\n",
    "\n",
    "### Grafer\n",
    "\n",
    "- En graf består av en mengde node, og en mengde \"kanter\", der hver kant forbinder to noder med hverandre\n",
    "- En vei i en graf består av en mengde kanter i en rekkefølge, slik at to på hverandre følgende kanter alltid har en node felles\n",
    "- En sti er en vei hvor hver node besøkes høyst en gang "
   ],
   "metadata": {}
  },
  {
   "cell_type": "markdown",
   "source": [
    "\n"
   ],
   "metadata": {}
  }
 ],
 "metadata": {
  "orig_nbformat": 4,
  "language_info": {
   "name": "python",
   "version": "3.8.10",
   "mimetype": "text/x-python",
   "codemirror_mode": {
    "name": "ipython",
    "version": 3
   },
   "pygments_lexer": "ipython3",
   "nbconvert_exporter": "python",
   "file_extension": ".py"
  },
  "kernelspec": {
   "name": "python3",
   "display_name": "Python 3.8.10 64-bit"
  },
  "interpreter": {
   "hash": "916dbcbb3f70747c44a77c7bcd40155683ae19c65e1c03b4aa3499c5328201f1"
  }
 },
 "nbformat": 4,
 "nbformat_minor": 2
}