{
 "cells": [
  {
   "cell_type": "markdown",
   "source": [
    "## Objektorientert programmering\n",
    "\n",
    "Fra før vet vi at prosedyrer og funksjoner brukes for å løse deloppgaver. Objekt orientert programmering vil kunne brukes til å bearbeide felles og mer komplekse data.\n",
    "\n",
    "Det vil si at vi samler relaterte data og kode, for å manipulere dataenen i objekter\n",
    "\n",
    "Grensesnitt til et objekt:\n",
    "- Tjenester objektet tilbyr programmet i form av et sett metoder.\n",
    "\n",
    "Innkapsling av et objekt:\n",
    "- Det er skjult for programmet hvordan objektet representerer og manipulerer sine data\n",
    "\n",
    "Konseptet objektorientering\n",
    "- Å programmerer er å modellere\n",
    "  - Bygger en egen represntasjon av fenomemer vi trenger å manipulere i datamaskinen\n",
    "  - denne representasjoner er ikke virkeligheten, men kan holde rede på noen aspekter som er fiktige for det vi skal lage program for\n",
    "  - Vi lager en \"modell av virkeligheten\"\n",
    "  \n",
    "  \n",
    "\n",
    "- Å programmerer er å forstå\n",
    "  - Virkeligheten\n",
    "  - Problemet /behovet vi skal løse \n",
    "  - Hva som kan endre seg/vil endre seg i fremtiden\n",
    "\n",
    "### Objektorientering støtter modularisering\n",
    "\n",
    "- Både funksjoner og klasser er mekanismer som hjelper oss å strukturere koden vår gjennom modularisering\n",
    "- Klassen definerer data og operasjoner som hører sammen, og kan definere et begresnet vindu (grensesnitt) som brukere av klassen (programmerere) skal få til objekter av klassen\n",
    "- Klassedefinisjonen er mønsteret som blir fulgt når vi lager nye objekter av klassen\n",
    "  - De har de samme instansvariablene, men instansvariablene kan ha ulike verdier\n",
    "- Et objekter husker data i instansvariablene sine mellom hver gang en metode kalles for objektet."
   ],
   "metadata": {}
  },
  {
   "cell_type": "code",
   "execution_count": 1,
   "source": [
    "#Objekter som representer lister med tilhørende metoder\n",
    "navneliste = [] #Oppretter objektet\n",
    "navneliste.append(\"Per\") #Spesifikke metoder tilhørende objektet\n",
    "navneliste.append(\"Espen\")\n",
    "navn = navneliste.pop()\n",
    "\n",
    "#Objekter som representerer filer med tilhørende metoder\n",
    "utfil = open(\"navn.txt\",\"w\") #Oppretter objektet\n",
    "utfil.write(navn) #Spesifikke metoder tilhørende objektet\n",
    "utfil.close()"
   ],
   "outputs": [],
   "metadata": {}
  },
  {
   "cell_type": "markdown",
   "source": [
    "### Metoder\n",
    "Vi kaller på metoder omtrent som prosedyrer og funksjoner, men en metode må alltid kalles for et bestemt objekt! Derfor bruker vi \"dot-notasjon\"\n",
    "\n",
    "Vi utfører metoder på objektet vårt ved hjelp av kallet: <objekt.metode(parametre)>\n",
    "- En metode kan ta argumenter\n",
    "- En metode kan returnere en verdi\n",
    "\n",
    "### Grensesnitt\n",
    "Et objekt tilbyr et sett med tjenester i form av metoder som programmere kan kalle på for å lese av, endre eller aktivisere et objekt: Objektets grensesnitt\n",
    "\n",
    "Grensesnittet bestemmes av objektets klasse\n",
    "\n",
    "#### Uformell beskrivelse av grensesnitt\n",
    "for et liste-objekt\n",
    "- legg til et element\n",
    "- les av første element\n",
    "- fjern et element\n",
    "\n",
    "Et objekt har:\n",
    "- Et grensesnitt\n",
    "- og en innmat -> implementasjonen\n",
    "\n"
   ],
   "metadata": {}
  },
  {
   "cell_type": "markdown",
   "source": [
    "## Klasser\n",
    "### Hvorfor lage en klasse?\n",
    "- For å tilby et sett tjenester som hører sammen (verktøykasse)\n",
    "- Spesielt nyttig for tjenester som trenger å dele data over tid (eks for håndtering av en liste, eller fil, tekst)\n",
    "- For å kunne lage flere like objekter med samme data og oppførsel (eks representere studenter)\n",
    "- For å simulere sammensatte fenomener vha objekter som represnterer virkelige elementer (eks. trafikk-simulering)\n",
    "\n",
    "### Lage egne klasser\n",
    "En klasse er et mønster/oppskrift for objekter av samme type, eks:\n",
    "- Student\n",
    "- Dato\n",
    "\n",
    "Klassedefenisjonen beskriver hvilke data hvert objekt skal ha (i instansvariabler) og de metodene som skal operere på instansvariablene i objektet\n",
    "\n",
    "Du kan definere (programmere) dine egne klasser som du så kan oprette en eller flere instanser (objekter) av.\n",
    "\n",
    "#### Konstruktøren \n",
    "\n",
    "Konstruktøren \\_\\_init\\_\\_ kalles automatisk når et objekt opprettes:\n",
    "1. oppretter objektet\n",
    "2. oppretter og initierer insansvariablene i objektet\n",
    "3. returnerer det nye objektet til kallstedet\n",
    "\n",
    "NB! Vi oppgir ikke noe argument til parameteren 'self'. self representerer bare objektet. \n",
    "\n",
    "#### Fremgangsmåte: OOP\n",
    "1. Identifiser aktuelle klasser (hva er sentrale \"ting\"/begreper programmet skal behandle?)\n",
    "2. Design klassens grensesnitt (hvilke operasjoner trenger jeg for objekter av klassen?)\n",
    "3. Design klassens datarepresentasjon (hvordan skal objektene representere dataene sine?) [Konstruktøren]\n",
    "4. Implementer (fyll ut) metodene (skriv klassen ferdig)\n",
    "5. Lag et testprogram som oppretter et eller flere objekter og kaller på metodene i objektes grensesnitt\n",
    "\n",
    "NB! Man må nok gjøre 4 og 5 flere ganger for samme klasse\n",
    "\n",
    "### Innkapsling\n",
    "- Prisnipp som innebærer at programmere kune har tilgang til (utvalgte) metoder i objektet av klassen:\n",
    "  - Klassens grensesnitt (\"public interface\")\n",
    "\n",
    "- Data og eventuelt andre metoder (hjelpemetoder) definert inne i klassen er \"non-public\" og brukes kun inne i klassedefinisjonen\n",
    "\n",
    "- Sentralt prinsipp i objektorientert programmering\n",
    "  - En klasse kan endres så lenge grensesnittet er det samme - uten at det får konsekvenser der klassen brukes\n",
    "  - Gjennomført ansvarsdeling (split og hersk)\n",
    "\n",
    "NB: Python støtter innkaplsing med konvensjoner, men har ingen mekanismer for å hindre tilgang"
   ],
   "metadata": {}
  },
  {
   "cell_type": "code",
   "execution_count": 14,
   "source": [
    "#Klasse-definisjon (syntax)\n",
    "\n",
    "class Student: #Klassenavn\n",
    "\n",
    "    def __init__(self, navn): #Konstruktør (blir kalt hver gang et nytt objekt opprettes)\n",
    "        self._ant_deltatt = 0 #Hver instans vil starte med 0 deltakere\n",
    "                              #self. betyr at vi jobber på et spesielt objekt  \n",
    "        self._navn = navn #_variabel brukes som navnekonvensjon som er \"private\", dvs skjult for programmet som bruker objektet. \n",
    "                          #Lokale variabler for klassen.\n",
    "    \n",
    "    def registrer(self): #Metode\n",
    "        self._ant_deltatt += self._ant_deltatt\n",
    "\n",
    "    def hent_deltakelse(self): #Funksjonsmetode\n",
    "        return self._ant_deltatt\n",
    "\n",
    "    def hent_navn(self):\n",
    "        return self._navn\n",
    "\n",
    "#Opprette objekter (syntax)\n",
    "\n",
    "ny_student = Student(\"Daniel\") #Argumenter bestemmes av __init__ i klassen\n",
    "ny_student.hent_navn()  "
   ],
   "outputs": [],
   "metadata": {}
  },
  {
   "cell_type": "markdown",
   "source": [
    "### Testprogram for Student-klassen\n",
    "Det er viktig å teste at alt fungerer i klassen som opprettes. Det vil si:\n",
    "1. Opprett en ny fil\n",
    "2. Importer klassen\n",
    "3. Opprett minst et objekt\n",
    "4. Kall på alle metoder minst eg gang\n",
    "   -    Ulike sekvenser kan være nødvendig for å avdekke feil siden objekter husker verdiene sine (har en tilstand) mellom kall\n",
    "5. Bruke assert for å \"tvinge\" oss til å tenke ut på forhånd hva vi forventer"
   ],
   "metadata": {}
  },
  {
   "cell_type": "code",
   "execution_count": 1,
   "source": [
    "from student import Student\n",
    "\n",
    "stud1 = Student(\"Siri\")\n",
    "stud2 = Student(\"Henrik\")\n",
    "\n",
    "stud1.registrer()\n",
    "stud1.registrer()\n",
    "stud2.registrer()\n",
    "\n",
    "#Sjekk at registrert deltakelse er som forventet\n",
    "#Assert gir lite info dersom noe er feil\n",
    "assert(stud1.hent_deltakelse() == 2)\n",
    "assert(stud2.hent_deltakelse() == 1)\n",
    "\n",
    "#Bør heller bruke f.eks print statements"
   ],
   "outputs": [],
   "metadata": {}
  },
  {
   "cell_type": "markdown",
   "source": [
    "### Navn klasse\n",
    "- Skrive en klasse Navn som skal huske og presentere på flere formater navn bestående av fornavn, mellomnavn og etternavn\n",
    "- Uformelt grensesnitt:\n",
    "  - Konstruktør m/parameter for for-, mellom- og etternavn\n",
    "  - Metoder for å: \n",
    "    - Hente på form egnet for sortering (Hareide, Knut Arild)\n",
    "    - Hente naturlig (Knut Arild Hareide)"
   ],
   "metadata": {}
  },
  {
   "cell_type": "code",
   "execution_count": 4,
   "source": [
    "class Navn:\n",
    "    def __init__(self, fornavn, mellom, etter):\n",
    "        self._fornavn = fornavn\n",
    "        self._mellom = mellom\n",
    "        self._etter = etter\n",
    "\n",
    "    def sortert(self):\n",
    "        alf_navn = self._etter + \", \" + self._fornavn + \" \" + self._mellom\n",
    "        return alf_navn\n",
    "\n",
    "    def naturlig(self):\n",
    "        nat_navn = self._fornavn + \" \" + self._mellom + \" \" + self._etter\n",
    "        return nat_navn    \n",
    "\n",
    "def hovedprogram():\n",
    "    navn1 = Navn(\"Siri\", \"Moe\", \"Jensen\")\n",
    "    navn2 = Navn(\"Daniel\",\"per\", \"Stangeland\")\n",
    "\n",
    "    print(navn1.sortert())\n",
    "    print(navn2.sortert())\n",
    "\n",
    "hovedprogram()"
   ],
   "outputs": [
    {
     "output_type": "stream",
     "name": "stdout",
     "text": [
      "Jensen, Siri Moe\n",
      "Stangeland, Daniel per\n"
     ]
    }
   ],
   "metadata": {}
  }
 ],
 "metadata": {
  "orig_nbformat": 4,
  "language_info": {
   "name": "python",
   "version": "3.8.10",
   "mimetype": "text/x-python",
   "codemirror_mode": {
    "name": "ipython",
    "version": 3
   },
   "pygments_lexer": "ipython3",
   "nbconvert_exporter": "python",
   "file_extension": ".py"
  },
  "kernelspec": {
   "name": "python3",
   "display_name": "Python 3.8.10 64-bit"
  },
  "interpreter": {
   "hash": "916dbcbb3f70747c44a77c7bcd40155683ae19c65e1c03b4aa3499c5328201f1"
  }
 },
 "nbformat": 4,
 "nbformat_minor": 2
}