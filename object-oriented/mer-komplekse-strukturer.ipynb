{
 "cells": [
  {
   "cell_type": "markdown",
   "source": [
    "## Mer komplekse strukturer\n",
    "\n",
    "- Innkapsling og grensesnitt\n",
    "- Spesielle metoder i egendefinerte klasser\n",
    "  - sammenlingnig av objecter\n",
    "  - utskrift\n",
    "- Samling av objekter i beholdere som liste, mengde ordbok\n",
    "\n",
    "\n",
    "## Klasse og grensesnitt\n",
    "Klasse:\n",
    "- Klassen er mønsteret vi lager objektene etter\n",
    "- Klassedefinisjonen bestemmer hva objektene kan lagre av data (instansvariabler) og hva de kan utføre (instansmetoder)\n",
    "\n",
    "Grensesnitt:\n",
    "- Grensesnittet er de metodene vi tilbyr programmereren som skal bruke klassen\n",
    "- Alt annet i klassen navngir vi med '\\_' først i navnet -> de er \"non-public\" (private)\n",
    "- Instansmetoder kan også være private! Brukes da kun av andre metoder inne i klassen\n",
    "\n",
    "## Hva har vi tilgang til i instansmetodene?\n",
    "\n",
    "Data:\n",
    "- Instansvariablene (ved hjelp av self). Når en metode avsluttes, finnes fortsatt instansvariablene med sine verdier (så lenge det finnes en eller flere referanser til objektet)\n",
    "\n",
    "Dessuten (akkurat som vanlige funksjoner og prosedyrer)\n",
    "- Eventuelle parametre til metoden (eks: lengde, bredde i rektangel klassen). Disse oppstår når metoden blir kalt, og får verdi fra argumentene som sendes med. Når metoden er utført forsvinner de.\n",
    "- Eventuelle lokale variabler metoden definerer (eks: areal). Som parametere, men må gis verdi inne i metoden. \n",
    "\n",
    "En metode kan bruke (kalle på) det samme som ellers i programmet:\n",
    "- prosedyrer som print(\"tekst\")\n",
    "- funksjoner som input(\"tekst\")\n",
    "- andre metoder: referanse.metode(arg)\n",
    "\n",
    "Referanse kan være...\n",
    "- til det objektet \"denne\" metoden ble kalt på: self._bredde i Rektangel\n",
    "\n",
    "..eller til et annet objekt! Referansen kan da hentes fra\n",
    "- en instansvariabel i objektet vi \"er i\" -> self._navn.naturlig() i klassen Navn\n",
    "- en parameter eller lokal variabel til metoden vi ser på (som i funksjoner/prosedyrer ellers)\n",
    "\n",
    "## Referanser til objekter\n",
    "\n",
    "Ofte trenger vi ikke tenke på at selve objektet ikke ligger i variablen\n",
    "\n",
    "Noen ganger må vi huske forskjellen på referansen og objektet\n",
    "- Hvis vi tilordner verdien fra en referansevariabel til en annen (f.eks. ved parameteroverføring)\n",
    "  - objektet kopieres ikke\n",
    "  - variablene referer til samme objekt!\n",
    "  - endringer når objektet endres synes det fra begge referansevariabler\n",
    "- Om vi sammenligner to referanser\n",
    "  - om referansene er like (inneholder samme adresse) er det samme objekt\n",
    "  - Å sammenligne to objekter er mer komplisert"
   ],
   "metadata": {}
  },
  {
   "cell_type": "markdown",
   "source": [
    "## Sammenligning i objektorientert programmering\n",
    "\n",
    "Kan sammenligne enten:\n",
    "- Referansene, er det samme objekt\n",
    "  - Bruk \"is\" for å sjekke\n",
    "  - eks: rek1 is rek2 -> True\n",
    "- Objektene, er det like objekter (likt innhold)\n",
    "  - må sjekke instansvariablene i begge objekter\n",
    "  - eks: rek1 is rek2 -> False\n",
    "  - Det vil si det er to ulike objekter\n",
    "\n",
    "### Når er objekter like? (\\_\\_eq\\_\\_)\n",
    "Den som har skrevet klassen vet (bestemmer) hva som gjør to objekter \"like\"\n",
    "\n",
    "Vi kan lage en egen metode i klassen som gjør dette. \n",
    "- Hvis metoden får navnet \\_\\_eq\\_\\_ vil operatoren == sammenligne objekter av klassen slik vi bestemmer\n",
    "- Dette er gjort i pythons List-klasse, slik at liste1 == liste2 er gyldig sjekk og sammenligner alle elementene i en liste for oss\n",
    "\n",
    "### Oppsummering\n",
    "eksempel: print(o1 == o2)\n",
    "\n",
    "Hvis referansene er like (referer samme objekt) -> True\n",
    "Hvis de referer objekter av ulike klasser -> False\n",
    "\n",
    "Hvis de referer hvert sitt objekt av samme klasse, som ikke har eq metode -> False\n",
    "Hvis det finnes en eq metode i klassen\n",
    "- \\_\\_eq\\_\\_ metoden utføres for o1, med o2 som argument -> tilsvarer o1.\\_\\_eq\\_\\_(o2)\n",
    "- Avhenging av hvordan \\_\\_eq\\_\\_ metode sammenligner objektene vil den returnere True eller False\n",
    "- Utrykket (o1 == o2) evaluerer til returverdien fra \\_\\_eq\\_\\_ metoden\n"
   ],
   "metadata": {}
  },
  {
   "cell_type": "code",
   "execution_count": 1,
   "source": [
    "class Rektangel:\n",
    "\n",
    "    def __init__(self, lengde, bredde):\n",
    "        self._lengde = lengde\n",
    "        self._bredde = bredde\n",
    "\n",
    "    # Lager en metode som sammenligner to instanser av klassen\n",
    "    def __eq__(self, annen):\n",
    "        return(self._lengde == annen._lengde and self._bredde == annen._bredde)    \n",
    "\n",
    "    def areal(self):\n",
    "        return self._lengde * self._bredde\n",
    "\n",
    "    def endre(self, lengde, bredde):\n",
    "        self._lengde += lengde\n",
    "        self._bredde += bredde    \n",
    "\n",
    "r1 = Rektangel(8,6)\n",
    "r2 = Rektangel(8,6)\n",
    "print(r1 == r2)\n",
    "\n",
    "r3 = Rektangel(6,4)\n",
    "print(r2 == r3)"
   ],
   "outputs": [
    {
     "output_type": "stream",
     "name": "stdout",
     "text": [
      "True\n",
      "False\n"
     ]
    }
   ],
   "metadata": {}
  },
  {
   "cell_type": "markdown",
   "source": [
    "## Spesielle metoder\n",
    "Felles for spesielle metoder er:\n",
    "- innledende og avsluttende dobbel underscore (\\_\\_) i metodenavnet\n",
    "- kalles på andre måter enn ved metodenavnet\n",
    "  - \\_\\_eq\\_\\_ kalles på med ==\n",
    "  - \\_\\_init\\_\\_ ved opprettelse av nytt objekt. Kalles ved opprettelse av nytt objekt, oppretter og initierer instansvariablene\n",
    "  - \\_\\_str\\_\\_ og \\_\\_repr\\_\\_ gjør om objekter til strenger\n",
    "\n",
    "Tabel 9.1 i pensumbok viser flere andre spesielle metoder som kan inmplementere:\n",
    "- logiske operatorer (==, !=, <, >)\n",
    "- aritmetiske funksjoner (+, *, -)\n"
   ],
   "metadata": {}
  }
 ],
 "metadata": {
  "orig_nbformat": 4,
  "language_info": {
   "name": "python",
   "version": "3.8.10",
   "mimetype": "text/x-python",
   "codemirror_mode": {
    "name": "ipython",
    "version": 3
   },
   "pygments_lexer": "ipython3",
   "nbconvert_exporter": "python",
   "file_extension": ".py"
  },
  "kernelspec": {
   "name": "python3",
   "display_name": "Python 3.8.10 64-bit"
  },
  "interpreter": {
   "hash": "916dbcbb3f70747c44a77c7bcd40155683ae19c65e1c03b4aa3499c5328201f1"
  }
 },
 "nbformat": 4,
 "nbformat_minor": 2
}