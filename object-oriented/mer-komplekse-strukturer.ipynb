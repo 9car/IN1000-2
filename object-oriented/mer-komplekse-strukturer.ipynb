{
 "cells": [
  {
   "cell_type": "markdown",
   "source": [
    "## Mer komplekse strukturer\n",
    "\n",
    "- Innkapsling og grensesnitt\n",
    "- Spesielle metoder i egendefinerte klasser\n",
    "  - sammenlingnig av objecter\n",
    "  - utskrift\n",
    "- Samling av objekter i beholdere som liste, mengde ordbok\n",
    "\n",
    "\n",
    "## Klasse og grensesnitt\n",
    "Klasse:\n",
    "- Klassen er mønsteret vi lager objektene etter\n",
    "- Klassedefinisjonen bestemmer hva objektene kan lagre av data (instansvariabler) og hva de kan utføre (instansmetoder)\n",
    "\n",
    "Grensesnitt:\n",
    "- Grensesnittet er de metodene vi tilbyr programmereren som skal bruke klassen\n",
    "- Alt annet i klassen navngir vi med '\\_' først i navnet -> de er \"non-public\" (private)\n",
    "- Instansmetoder kan også være private! Brukes da kun av andre metoder inne i klassen\n",
    "\n",
    "## Hva har vi tilgang til i instansmetodene?\n",
    "\n",
    "Data:\n",
    "- Instansvariablene (ved hjelp av self). Når en metode avsluttes, finnes fortsatt instansvariablene med sine verdier (så lenge det finnes en eller flere referanser til objektet)\n",
    "\n",
    "Dessuten (akkurat som vanlige funksjoner og prosedyrer)\n",
    "- Eventuelle parametre til metoden (eks: lengde, bredde i rektangel klassen). Disse oppstår når metoden blir kalt, og får verdi fra argumentene som sendes med. Når metoden er utført forsvinner de.\n",
    "- Eventuelle lokale variabler metoden definerer (eks: areal). Som parametere, men må gis verdi inne i metoden. \n",
    "\n",
    "En metode kan bruke (kalle på) det samme som ellers i programmet:\n",
    "- prosedyrer som print(\"tekst\")\n",
    "- funksjoner som input(\"tekst\")\n",
    "- andre metoder: referanse.metode(arg)\n",
    "\n",
    "Referanse kan være...\n",
    "- til det objektet \"denne\" metoden ble kalt på: self._bredde i Rektangel\n",
    "\n",
    "..eller til et annet objekt! Referansen kan da hentes fra\n",
    "- en instansvariabel i objektet vi \"er i\" -> self._navn.naturlig() i klassen Navn\n",
    "- en parameter eller lokal variabel til metoden vi ser på (som i funksjoner/prosedyrer ellers)\n",
    "\n",
    "## Referanser til objekter\n",
    "\n",
    "Ofte trenger vi ikke tenke på at selve objektet ikke ligger i variablen\n",
    "\n",
    "Noen ganger må vi huske forskjellen på referansen og objektet\n",
    "- Hvis vi tilordner verdien fra en referansevariabel til en annen (f.eks. ved parameteroverføring)\n",
    "  - objektet kopieres ikke\n",
    "  - variablene referer til samme objekt!\n",
    "  - endringer når objektet endres synes det fra begge referansevariabler\n",
    "- Om vi sammenligner to referanser\n",
    "  - om referansene er like (inneholder samme adresse) er det samme objekt\n",
    "  - Å sammenligne to objekter er mer komplisert"
   ],
   "metadata": {}
  },
  {
   "cell_type": "markdown",
   "source": [
    "## Sammenligning i objektorientert programmering\n",
    "\n",
    "Kan sammenligne enten:\n",
    "- Referansene, er det samme objekt\n",
    "  - Bruk \"is\" for å sjekke\n",
    "  - eks: rek1 is rek2 -> True\n",
    "- Objektene, er det like objekter (likt innhold)\n",
    "  - må sjekke instansvariablene i begge objekter\n",
    "  - eks: rek1 is rek2 -> False\n",
    "  - Det vil si det er to ulike objekter\n",
    "\n",
    "### Når er objekter like? (\\_\\_eq\\_\\_)\n",
    "Den som har skrevet klassen vet (bestemmer) hva som gjør to objekter \"like\"\n",
    "\n",
    "Vi kan lage en egen metode i klassen som gjør dette. \n",
    "- Hvis metoden får navnet \\_\\_eq\\_\\_ vil operatoren == sammenligne objekter av klassen slik vi bestemmer\n",
    "- Dette er gjort i pythons List-klasse, slik at liste1 == liste2 er gyldig sjekk og sammenligner alle elementene i en liste for oss\n",
    "\n",
    "### Oppsummering\n",
    "eksempel: print(o1 == o2)\n",
    "\n",
    "Hvis referansene er like (referer samme objekt) -> True\n",
    "Hvis de referer objekter av ulike klasser -> False\n",
    "\n",
    "Hvis de referer hvert sitt objekt av samme klasse, som ikke har eq metode -> False\n",
    "Hvis det finnes en eq metode i klassen\n",
    "- \\_\\_eq\\_\\_ metoden utføres for o1, med o2 som argument -> tilsvarer o1.\\_\\_eq\\_\\_(o2)\n",
    "- Avhenging av hvordan \\_\\_eq\\_\\_ metode sammenligner objektene vil den returnere True eller False\n",
    "- Utrykket (o1 == o2) evaluerer til returverdien fra \\_\\_eq\\_\\_ metoden\n"
   ],
   "metadata": {}
  },
  {
   "cell_type": "code",
   "execution_count": 1,
   "source": [
    "class Rektangel:\n",
    "\n",
    "    def __init__(self, lengde, bredde):\n",
    "        self._lengde = lengde\n",
    "        self._bredde = bredde\n",
    "\n",
    "    # Lager en metode som sammenligner to instanser av klassen\n",
    "    def __eq__(self, annen):\n",
    "        return(self._lengde == annen._lengde and self._bredde == annen._bredde)    \n",
    "\n",
    "    def areal(self):\n",
    "        return self._lengde * self._bredde\n",
    "\n",
    "    def endre(self, lengde, bredde):\n",
    "        self._lengde += lengde\n",
    "        self._bredde += bredde    \n",
    "\n",
    "r1 = Rektangel(8,6)\n",
    "r2 = Rektangel(8,6)\n",
    "print(r1 == r2)\n",
    "\n",
    "r3 = Rektangel(6,4)\n",
    "print(r2 == r3)"
   ],
   "outputs": [
    {
     "output_type": "stream",
     "name": "stdout",
     "text": [
      "True\n",
      "False\n"
     ]
    }
   ],
   "metadata": {}
  },
  {
   "cell_type": "markdown",
   "source": [
    "## Spesielle metoder\n",
    "Felles for spesielle metoder er:\n",
    "- innledende og avsluttende dobbel underscore (\\_\\_) i metodenavnet\n",
    "- kalles på andre måter enn ved metodenavnet\n",
    "  - \\_\\_eq\\_\\_ kalles på med ==\n",
    "  - \\_\\_init\\_\\_ ved opprettelse av nytt objekt. Kalles ved opprettelse av nytt objekt, oppretter og initierer instansvariablene\n",
    "  - \\_\\_str\\_\\_ og \\_\\_repr\\_\\_ gjør om objekter til strenger\n",
    "\n",
    "Tabel 9.1 i pensumbok viser flere andre spesielle metoder som kan inmplementere:\n",
    "- logiske operatorer (==, !=, <, >)\n",
    "- aritmetiske funksjoner (+, *, -)\n"
   ],
   "metadata": {}
  },
  {
   "cell_type": "markdown",
   "source": [
    "### Objekter som strenger\n",
    "\n",
    "For å vise frem objekter (som strenger):\n",
    "\n",
    "\\_\\_str\\_\\_:\n",
    "- Kalles når vi bruker print(referansevariabel) og str(referansevariabel)\n",
    "- lager brukervennlig utskrift, lag den slik du ønsker\n",
    "- hvis den ikke finnes i klassen kalles \\_\\_repr\\_\\_\n",
    "\n",
    "\\_\\_repr\\_\\_\n",
    "- Leveren en komplett og entydig representasjon av objektet\n",
    "- default: Modul, klassenavn og minneadresse for objektet\n",
    "- kalles ved utskrift av elementene i en liste\n",
    "- eller nå \\_\\_str\\_\\_ ikke finnes\n",
    "\n",
    "NB! HUSK AT EN \\_\\_str\\_\\_ METODE SKAL RETURNERE, IKKE PRINTE UT EN STRENG!\n",
    "- Du vet ikke hva de som bruker klassen til ønsker å gjøre med strengen"
   ],
   "metadata": {}
  },
  {
   "cell_type": "code",
   "execution_count": 3,
   "source": [
    "#Eksempel på __repr__ fordi vi ikke har definert __str__ i klassen\n",
    "print(r1)"
   ],
   "outputs": [
    {
     "output_type": "stream",
     "name": "stdout",
     "text": [
      "<__main__.Rektangel object at 0x7fdd4436dac0>\n"
     ]
    }
   ],
   "metadata": {}
  },
  {
   "cell_type": "code",
   "execution_count": 14,
   "source": [
    "class Rektangel:\n",
    "\n",
    "    def __init__(self, lengde, bredde):\n",
    "        self._lengde = lengde\n",
    "        self._bredde = bredde\n",
    "\n",
    "    def __eq__(self, annen):\n",
    "        return(self._lengde == annen._lengde and self._bredde == annen._bredde)\n",
    "\n",
    "    def __str__(self):\n",
    "        pen_streng = \"Lengde: \" + str(self._lengde) + \", bredde: \" + str(self._bredde) \n",
    "        return pen_streng #Skal alltid returnere en streng, ofte eksamensfeil\n",
    "\n",
    "    def areal(self):\n",
    "        return self._lengde * self._bredde\n",
    "\n",
    "    def endre(self, lengde, bredde):\n",
    "        self._lengde += lengde\n",
    "        self._bredde += bredde    \n",
    "\n",
    "# __str__ definert\n",
    "r1 = Rektangel(5,5)\n",
    "print(r1)"
   ],
   "outputs": [
    {
     "output_type": "stream",
     "name": "stdout",
     "text": [
      "Lengde: 5, bredde: 5\n"
     ]
    }
   ],
   "metadata": {}
  },
  {
   "cell_type": "markdown",
   "source": [
    "### En referanse trenger ikke ligge i en variabel\n",
    "- En referanse kan ligge i en variabel (som r1), eller være en returverdi fra en funksjon eller metode\n",
    "  - som igjen kan være kalt på en referanse som var returverdi fra en metode, osv\n",
    "- Et uttrykk som evaluerer til en referanse kan brukes der en referansevariabel kan brukes"
   ],
   "metadata": {}
  },
  {
   "cell_type": "code",
   "execution_count": 11,
   "source": [
    "from rektangel import Rektangel\n",
    "\n",
    "print(Rektangel(10,15).areal()) #Oppretter et nytt Rektangel objekt\n",
    "                                #og kaller på metoden for arealet for dette\n",
    "                                #printer til slutt returverdien fra areal"
   ],
   "outputs": [
    {
     "output_type": "stream",
     "name": "stdout",
     "text": [
      "Lengde: 5, bredde: 5\n"
     ]
    }
   ],
   "metadata": {}
  },
  {
   "cell_type": "markdown",
   "source": [
    "### Vi kan bruke dot-notasjon i flere ledd\n",
    "- Kaller da metoder på returverdi fra en annen metode"
   ],
   "metadata": {}
  },
  {
   "cell_type": "code",
   "execution_count": 18,
   "source": [
    "#Eksempel på en streng\n",
    "ordliste = \"Dette er en tekst  \".lower().strip().split()\n",
    "print(ordliste)"
   ],
   "outputs": [
    {
     "output_type": "stream",
     "name": "stdout",
     "text": [
      "['dette', 'er', 'en', 'tekst']\n"
     ]
    }
   ],
   "metadata": {}
  },
  {
   "cell_type": "markdown",
   "source": [
    "## Samlinger\n",
    "\n",
    "### Samlinger av verdier\n",
    "\n",
    "- Beholdere (containers) er viktige verktøy i programmering\n",
    "- Gjør det mulig å organisere og arbeide med samlinger av objekter\n",
    "- Beholdere tilbyr ulike egenskaper som velges ut fra behov\n",
    "\n",
    "\n",
    "Så langt har vi sett på:\n",
    "- Lister (List) -> Inneholder verdier med fast rekkefølge, indeksert\n",
    "- Mengder (Set) -> Unindeksert, unike uten dubletter\n",
    "- Ordbøker (Dictionary) -> par av en unik nøkkel (key) og verdi (value). Ingen konstant rekkefølge\n",
    "\n",
    "Verdiene kan være referanse til objekter\n",
    "- Slike referanser kan være samlinger, f.eks. liste"
   ],
   "metadata": {}
  },
  {
   "cell_type": "code",
   "execution_count": 8,
   "source": [
    "class Emne:\n",
    "    def __init__(self, emnekode, semester, stp):\n",
    "        self._emnekode = emnekode\n",
    "        self._semester = semester\n",
    "        self._studiepoeng = stp\n",
    "    \n",
    "    def __str__(self):\n",
    "        linje = (self._emnekode + \" (\" + self._semester + \") \" + str(self._studiepoeng) + \" studiepoeng\")\n",
    "        return linje\n",
    "\n",
    "\n",
    "mine_emner = []\n",
    "\n",
    "#Lager en samling av referanser til Emne-objekter\n",
    "#En liste kan innholde (referer til) objekter\n",
    "mine_emner.append(Emne(\"IN1000\",\"fall\",10))\n",
    "mine_emner.append(Emne(\"IN1010\",\"spring\",10))\n",
    "\n",
    "print(\"Liste eksempel\")\n",
    "for emne in mine_emner:\n",
    "    print(emne) #kaller på __str__() \n",
    "\n",
    "ifi_emner = {}\n",
    "\n",
    "ifi_emner[\"IN1000\"] = Emne(\"IN1000\",\"fall\",10)\n",
    "ifi_emner[\"IN1010\"] = Emne(\"IN1010\",\"spring\",10)\n",
    "\n",
    "print(\"Ordbok eksempel\")\n",
    "for emne in ifi_emner.values():\n",
    "    print(emne)"
   ],
   "outputs": [
    {
     "output_type": "stream",
     "name": "stdout",
     "text": [
      "Liste eksempel\n",
      "IN1000 (fall) 10 studiepoeng\n",
      "IN1010 (spring) 10 studiepoeng\n",
      "Ordbok eksempel\n",
      "IN1000 (fall) 10 studiepoeng\n",
      "IN1010 (spring) 10 studiepoeng\n"
     ]
    }
   ],
   "metadata": {}
  },
  {
   "cell_type": "code",
   "execution_count": 10,
   "source": [
    "class Person:\n",
    "    def __init__(self, fult_navn, alder):\n",
    "        self._navn = fult_navn\n",
    "        self._alder = alder\n",
    "    \n",
    "    def skriv_ut(self):\n",
    "        print(\"Navn: \" + self._navn.naturlig())\n",
    "        print(\"Alder: \" + str(self._alder))\n",
    "\n",
    "from navn import Navn\n",
    "\n",
    "\n",
    "navn1 = Navn(\"daniel\",\"petter\",\"stangeland\")\n",
    "foreleser1 = Person(navn1, 29)\n",
    "\n",
    "navn2 = Navn(\"geir\",\"kjetil\",\"sandve\")\n",
    "foreleser2 = Person(navn2, 25)\n",
    "\n",
    "foreleser1.skriv_ut()\n",
    "foreleser2.skriv_ut()"
   ],
   "outputs": [
    {
     "output_type": "stream",
     "name": "stdout",
     "text": [
      "Navn: daniel petter stangeland\n",
      "Alder: 29\n",
      "Navn: geir kjetil sandve\n",
      "Alder: 25\n"
     ]
    }
   ],
   "metadata": {}
  },
  {
   "cell_type": "code",
   "execution_count": null,
   "source": [
    "personliste = []\n",
    "les = input(\"skriv navn\")\n",
    "\n",
    "while les != \"\":\n",
    "    navnene = les.split()\n",
    "    nytt = Navn(navnene[0],navnene[1],navnene[2])\n",
    "    alder = input(\"alder\")\n",
    "    ny_person = Person(nytt,alder)\n",
    "    personliste.append(ny_person)\n",
    "    les = input(\"skriv navn\")\n"
   ],
   "outputs": [],
   "metadata": {}
  },
  {
   "cell_type": "markdown",
   "source": [
    "### Oppsummering av spesielle metoder\n",
    "- Er ikke innbygget fordi de avhenger av sematikken i den enkelte klassen, som bare du som programmer klassen kan bestemme\n",
    "- OFte nyttig å skrive \\_\\_str\\_\\_ ( og noen ganger \\_\\_eq\\_\\_) for egne klasser\n",
    "- Kan være behov for spesielle metoder for andre logiske operatorer\n",
    "  - sortering\n",
    "- Skal ALDRI kalles direkte med navn\n",
    "  - ikke rek.\\_\\_str\\_\\_(), men str(rek)\n",
    "  - ikke rek.\\_\\_eq\\_\\_(rek2), men rek == rek2"
   ],
   "metadata": {}
  }
 ],
 "metadata": {
  "orig_nbformat": 4,
  "language_info": {
   "name": "python",
   "version": "3.8.10",
   "mimetype": "text/x-python",
   "codemirror_mode": {
    "name": "ipython",
    "version": 3
   },
   "pygments_lexer": "ipython3",
   "nbconvert_exporter": "python",
   "file_extension": ".py"
  },
  "kernelspec": {
   "name": "python3",
   "display_name": "Python 3.8.10 64-bit"
  },
  "interpreter": {
   "hash": "916dbcbb3f70747c44a77c7bcd40155683ae19c65e1c03b4aa3499c5328201f1"
  }
 },
 "nbformat": 4,
 "nbformat_minor": 2
}