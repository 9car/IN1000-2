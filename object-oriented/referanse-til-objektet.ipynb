{
 "cells": [
  {
   "cell_type": "markdown",
   "source": [
    "## Referanser til objekter\n",
    "\n",
    "- Objekter lagres ikke deriekte i variabler\n",
    "  - Variablene inneholder isteden bare refereansen (minne-adressen) til objektet\n",
    "- Tegnes ofte som en pil for å indikere at objektet ikke selv ligger i variablen, men at variabelen kan \"vise vei\"\n",
    "- Minneadressen (innholdet i variabelen) er en objektreferanse\n",
    "- Kalles en peker\n",
    "\n",
    "### Referansevariabler\n",
    "\n",
    "- Variabler som holder rede på objekter kalles referansevariabler\n",
    "- Gjør det mulig å ta vare på og bruker objekter når vi trenger dem, akkuratt som heltallsvariabler husker heltall til vi trenger dem\n",
    "- Selve objektet kan lagres \"hvor som helst\" i minnet, og være stort eller lite.\n",
    "  - Referansevariabelen trenger bare plass til en adresse\n",
    "- Referansevariabler kan brukes for å kalle på metoder i objektet:\n",
    "  - ref_variabel.metode()\n",
    "\n",
    "### Forskjellen på referansen og objektet\n",
    "\n",
    "- Når vi snakker om innholdet i et objekt skjer det alltid med \"dot-notasjon\"\n",
    "  - Enten utenfor klassen -> ny_deltager.registrer()\n",
    "  - Eller i metodene inne i klassen -> self._poeng += 1"
   ],
   "metadata": {}
  },
  {
   "cell_type": "code",
   "execution_count": 2,
   "source": [
    "from student import Student\n",
    "\n",
    "ny_deltaker = Student(\"Truls\") #Her endres innholdet i referansevariabelen\n",
    "                               #(den refererer til det nye objektet)\n",
    "\n",
    "ny_deltaker.registrer() #Her endres innholdet i objektet variablen\n",
    "                        #refererer til (\"peker på\")"
   ],
   "outputs": [],
   "metadata": {}
  },
  {
   "cell_type": "markdown",
   "source": [
    "## Hensyn til referanser\n",
    "\n",
    "Noen ganger er det spesielt viktig å ta hensyn til at referansen og objektet er to ulike ting\n",
    "\n",
    "Hva skjer om vi tilordner verdien fra en referansevariabel til en annen\n",
    "\n",
    "deltaker1 = Deltaker()\\\n",
    "deltaker2 = deltaker1\n",
    "\n",
    "- Vi kopierer verdien til variabelen på høyre side! Akkuratt som når vi kopierer en heltallsverdi\n",
    "- Det er altså ikke objektet som blir kopiert, vi får bare en kopi av adressen/referansen til objektet\n",
    "- Begge referansevariablene referer dermed til samme objekt"
   ],
   "metadata": {}
  },
  {
   "cell_type": "code",
   "execution_count": 3,
   "source": [
    "#Her vil deltakelse øke med 1 i deltaker1 objektet\n",
    "deltaker1 = Student(\"Per\")\n",
    "deltaker2 = deltaker1\n",
    "deltaker2.registrer()\n",
    "\n",
    "print(deltaker1.hent_deltakelse())\n"
   ],
   "outputs": [
    {
     "output_type": "stream",
     "name": "stdout",
     "text": [
      "1\n"
     ]
    }
   ],
   "metadata": {}
  },
  {
   "cell_type": "code",
   "execution_count": 4,
   "source": [
    "#Eksempel på det samme for liste objektet\n",
    "liste = [1,2,3]\n",
    "kopi = liste\n",
    "\n",
    "kopi.append(5)\n",
    "print(kopi)\n",
    "print(liste)"
   ],
   "outputs": [
    {
     "output_type": "stream",
     "name": "stdout",
     "text": [
      "[1, 2, 3, 5]\n",
      "[1, 2, 3, 5]\n"
     ]
    }
   ],
   "metadata": {}
  },
  {
   "cell_type": "code",
   "execution_count": 5,
   "source": [
    "def ny_fib(fib_tallene):\n",
    "    nytt_tall = fib_tallene[-1] + fib_tallene[-2]\n",
    "    fib_tallene.append(nytt_tall)\n",
    "    print(\"Liste med nytt tall: \", fib_tallene)\n",
    "\n",
    "start = [0,1]\n",
    "print(\"Start-listen: \", start)\n",
    "\n",
    "ny_fib(start) #kallet endrer på den originale liste-objektet fordi start peker på objektet\n",
    "\n",
    "print(\"Start-listen: \", start)"
   ],
   "outputs": [
    {
     "output_type": "stream",
     "name": "stdout",
     "text": [
      "Start-listen:  [0, 1]\n",
      "Liste med nytt tall:  [0, 1, 1]\n",
      "Start-listen:  [0, 1, 1]\n"
     ]
    }
   ],
   "metadata": {}
  },
  {
   "cell_type": "markdown",
   "source": [
    "### Noen objekter kan ikke endres\n",
    "- Noen klasser har ikke metoder som endrer instansvariablene\n",
    "  - Kalles \"Immutable\"\n",
    "- Hindrer feil som følge av at flere variabler referer til samme objekt\n",
    "- Strenger er eksempler på dette\n",
    "  - Alle metoder som endrer en streng returnerer et NYTT objekt i stedet for å endre det eksisterende objektet\n",
    "- Se på dokumentasjonen av klassens grensesnitt (metodene) for å vite dette\n",
    "\n",
    "### Strenger\n",
    "Strenger endres aldri! Det blir kun opprettet en ny streng.\n",
    "\n",
    "- Metoder for å endre en streng endrer aldri objektet de kalles på\n",
    "- Istedet er de laget som funksjonsmetoder som returnerer en NY streng\n",
    "- Denne returverdien må vi evt ta vare på for å benytte videre"
   ],
   "metadata": {}
  },
  {
   "cell_type": "code",
   "execution_count": 6,
   "source": [
    "navn = \"Per\"\n",
    "\n",
    "#Strenger er immutable, returnerer en endret kopi\n",
    "navn_lower_case = navn.lower()\n",
    "\n",
    "print(navn_lower_case)\n",
    "print(navn)"
   ],
   "outputs": [
    {
     "output_type": "stream",
     "name": "stdout",
     "text": [
      "per\n",
      "Per\n"
     ]
    }
   ],
   "metadata": {}
  },
  {
   "cell_type": "markdown",
   "source": [
    "### Verdien None\n",
    "- Verdien None signaliserer at en referansevariabel ikke holder på noe objekt i øyeblikket\n",
    "- None kan i noen tilfeller være en nytt initialverdi\n",
    "- All sammenligning av referanseveriabler må bruke \"is\", \"equal\", \"is not\" etc\n",
    "- Mer om dette kommer "
   ],
   "metadata": {}
  },
  {
   "cell_type": "markdown",
   "source": [],
   "metadata": {}
  }
 ],
 "metadata": {
  "orig_nbformat": 4,
  "language_info": {
   "name": "python",
   "version": "3.8.10",
   "mimetype": "text/x-python",
   "codemirror_mode": {
    "name": "ipython",
    "version": 3
   },
   "pygments_lexer": "ipython3",
   "nbconvert_exporter": "python",
   "file_extension": ".py"
  },
  "kernelspec": {
   "name": "python3",
   "display_name": "Python 3.8.10 64-bit"
  },
  "interpreter": {
   "hash": "916dbcbb3f70747c44a77c7bcd40155683ae19c65e1c03b4aa3499c5328201f1"
  }
 },
 "nbformat": 4,
 "nbformat_minor": 2
}